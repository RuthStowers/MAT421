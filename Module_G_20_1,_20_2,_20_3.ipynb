{
  "cells": [
    {
      "cell_type": "markdown",
      "metadata": {
        "id": "view-in-github",
        "colab_type": "text"
      },
      "source": [
        "<a href=\"https://colab.research.google.com/github/RuthStowers/MAT421/blob/main/Module_G_20_1%2C_20_2%2C_20_3.ipynb\" target=\"_parent\"><img src=\"https://colab.research.google.com/assets/colab-badge.svg\" alt=\"Open In Colab\"/></a>"
      ]
    },
    {
      "cell_type": "markdown",
      "source": [
        "**Module G Homework**\n",
        "\n",
        "*20.1 - Numerical Integration* \n",
        "\n",
        "Integration is often described as finding the area under a curve. In practice this can be very difficult. We will discuss several ways to caluculate integrals numerically.\n",
        "\n",
        "Given a function f(x), we want to approximate the integral of f(x) over the total interval, [a,b]. \n",
        "\n",
        "*20.2 - Reimanns Integral*\n",
        "\n",
        "This is the simplest was to approximate the integral of a function. Here we discretize the area into rectangles that we can easily calculate the area of and sum them together. The width of the rectangle is x(i+1)−x(i)=h, and the height is defined by a function value f(x) for some x in the subinterval.The smaller h becomes, the more accurate the approximation. The x is usually the lower or upper endpoints giving what is known as the Reimanns integral. We can also approximate the integral using the midpoint in the subinterval, this is known as the Midpoint Rule.\n",
        "\n",
        "Here is an example of using the left Reimanns Integral, the right Reimanns Integral and the Midpoint Rule. Compare the values to the exact integral of x^2 over [0,3] which is 9. As shown, the Midpoint Rule is the most accurate of the three.\n"
      ],
      "metadata": {
        "id": "xIo-SCihWB7b"
      }
    },
    {
      "cell_type": "code",
      "source": [
        "import numpy as np\n",
        "\n",
        "a = 0\n",
        "\n",
        "b = 3\n",
        "\n",
        "n = 14\n",
        "\n",
        "h1 = (b - a) / (n - 1)\n",
        "\n",
        "x = np.linspace(a, b, n)\n",
        "\n",
        "f = x**2\n",
        "\n",
        "I_rie = h1 * sum(f[:n-1])\n",
        "err_rie = 9 - I_rie\n",
        "\n",
        "I_rieR = h1 * sum(f[1::])\n",
        "err_rieR = 9 - I_rieR\n",
        "\n",
        "Imid = h1 * sum((f[:n-1] + f[1::])/2)\n",
        "errmid = 9 - Imid\n",
        "\n",
        "print(I_rie)\n",
        "print(err_rie)\n",
        "\n",
        "print(I_rieR)\n",
        "print(err_rieR)\n",
        "\n",
        "print(Imid)\n",
        "print(errmid)"
      ],
      "metadata": {
        "colab": {
          "base_uri": "https://localhost:8080/"
        },
        "id": "9mgJpLNNfyzR",
        "outputId": "87b2f58e-cf53-42e1-a427-e58b24d3c316"
      },
      "execution_count": 18,
      "outputs": [
        {
          "output_type": "stream",
          "name": "stdout",
          "text": [
            "7.988165680473374\n",
            "1.011834319526626\n",
            "10.06508875739645\n",
            "-1.0650887573964507\n",
            "9.026627218934912\n",
            "-0.026627218934912378\n"
          ]
        }
      ]
    },
    {
      "cell_type": "markdown",
      "source": [
        "*20.3 - Trapezoid Rule*\n",
        "\n",
        "The trapezoid rule uses trapezoids instead of rectangles to calculate the approximate integral of a function. \n",
        "\n",
        "Here is an example using the Trapezoid Rule. Again compare this value to the exact number 9. We can see that this is more accurate than the Reimanns Integral and the Midpoint Rule."
      ],
      "metadata": {
        "id": "gUAUw86CTZMF"
      }
    },
    {
      "cell_type": "code",
      "source": [
        "import numpy as np\n",
        "\n",
        "a = 0\n",
        "\n",
        "b = 3\n",
        "\n",
        "n = 15\n",
        "\n",
        "h1 = (b - a) / (n - 1)\n",
        "\n",
        "x = np.linspace(a, b, n)\n",
        "\n",
        "fx = x**2\n",
        "\n",
        "Itrap = (h1/2)*(fx[0] + \\\n",
        "          2 * sum(fx[1:n-1]) + fx[n-1])\n",
        "\n",
        "errtrap = 9 - Itrap\n",
        "\n",
        "print(Itrap)\n",
        "print(errtrap)"
      ],
      "metadata": {
        "colab": {
          "base_uri": "https://localhost:8080/"
        },
        "id": "JyfBMEAng--H",
        "outputId": "62b34aaf-ccef-4569-ae5d-eee55f731108"
      },
      "execution_count": 17,
      "outputs": [
        {
          "output_type": "stream",
          "name": "stdout",
          "text": [
            "9.022959183673468\n",
            "-0.02295918367346772\n"
          ]
        }
      ]
    }
  ],
  "metadata": {
    "colab": {
      "provenance": [],
      "include_colab_link": true
    },
    "kernelspec": {
      "display_name": "Python 3",
      "name": "python3"
    }
  },
  "nbformat": 4,
  "nbformat_minor": 0
}