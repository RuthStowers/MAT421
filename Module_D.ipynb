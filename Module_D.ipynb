{
  "cells": [
    {
      "cell_type": "markdown",
      "metadata": {
        "id": "view-in-github",
        "colab_type": "text"
      },
      "source": [
        "<a href=\"https://colab.research.google.com/github/RuthStowers/MAT421/blob/main/Module_D.ipynb\" target=\"_parent\"><img src=\"https://colab.research.google.com/assets/colab-badge.svg\" alt=\"Open In Colab\"/></a>"
      ]
    },
    {
      "cell_type": "markdown",
      "metadata": {
        "id": "K1LgSsvg6TmU"
      },
      "source": [
        "**Chapter 1 Homework**\n",
        "\n",
        "*Sections: 1.1, 1.2, 1.3*\n",
        "\n",
        "**1.1 - Linear Algebra Introduction and Elements**\n",
        "\n",
        "**Linear algebra** is an iportant field of mathematics that has many applications in data science and machine learning. Topics include, but are not limited to, vector spaces, orthogonality, and principle componant analysis.\n",
        "\n",
        "We will review some basic concepts."
      ]
    },
    {
      "cell_type": "markdown",
      "source": [
        "**1.2 - Linear Spaces**\n",
        "\n",
        "A **linear combination** is a new vector made from a subset by multiplying each vector by a constant and adding the result. A **linear subspace** is the result of a linear combination.\n",
        "\n",
        "A **linear subspace** of a set is a subset of the set that is closed under vector addition and scalar multiplication. "
      ],
      "metadata": {
        "id": "2YGxez0C6xiV"
      }
    },
    {
      "cell_type": "markdown",
      "source": [
        "A **span** of a set of vectors is a linear subspace."
      ],
      "metadata": {
        "id": "5_WX1drp7FrQ"
      }
    },
    {
      "cell_type": "markdown",
      "source": [
        "A list of vectors is **linearly independent** if none of them can be written as a linear combination of the others. i.e. c1v1+c2v2+c3v3=0\n",
        "\n",
        "*Example 1:* Determine is the following set of vectors are independent or dependant.\n",
        "v1= [1,2,3], v2= [4,5,6], v3= [2,8,4]"
      ],
      "metadata": {
        "id": "OiT6Azqq7kcU"
      }
    },
    {
      "cell_type": "code",
      "source": [
        "import matplotlib.pyplot as plt\n",
        "import numpy as np\n",
        "from mpl_toolkits.mplot3d import Axes3D\n",
        "import sympy as sy\n",
        "sy.init_printing() \n",
        "\n",
        "m = sy.Matrix([[1,4,2,0],\n",
        "               [2,5,1,0],\n",
        "               [2,8,4,0]])\n",
        "m.rref()"
      ],
      "metadata": {
        "id": "lFU2pLbC_00V",
        "outputId": "5bd5dae2-02e9-4bbe-f42f-bad35b76f864",
        "colab": {
          "base_uri": "https://localhost:8080/",
          "height": 78
        }
      },
      "execution_count": 12,
      "outputs": [
        {
          "output_type": "execute_result",
          "data": {
            "text/plain": [
              "⎛⎡1  0  -2  0⎤        ⎞\n",
              "⎜⎢           ⎥        ⎟\n",
              "⎜⎢0  1  1   0⎥, (0, 1)⎟\n",
              "⎜⎢           ⎥        ⎟\n",
              "⎝⎣0  0  0   0⎦        ⎠"
            ],
            "text/latex": "$\\displaystyle \\left( \\left[\\begin{matrix}1 & 0 & -2 & 0\\\\0 & 1 & 1 & 0\\\\0 & 0 & 0 & 0\\end{matrix}\\right], \\  \\left( 0, \\  1\\right)\\right)$"
          },
          "metadata": {},
          "execution_count": 12
        }
      ]
    },
    {
      "cell_type": "markdown",
      "source": [
        "Since x3 is a free variable, it is clear that this set is linearly dependant."
      ],
      "metadata": {
        "id": "1Y3mK0_2Lz76"
      }
    },
    {
      "cell_type": "markdown",
      "source": [
        "A **basis** is a set of linearly independent vectors that gererates all elements of the vector space. The number of elements a vector space basis has  is the **dimension** of the vector space."
      ],
      "metadata": {
        "id": "migwcIfT_2Qx"
      }
    },
    {
      "cell_type": "markdown",
      "source": [
        "A list of vectors is **orthonormal** if each pair of vectors are **orthogonal** (perpendiular) and each has a magitude of 1. \n",
        "\n"
      ],
      "metadata": {
        "id": "MsideF2MAu8y"
      }
    },
    {
      "cell_type": "markdown",
      "source": [
        "**1.3 - Linear Regression**\n",
        "\n",
        "When analyzing data, **linear regression** can be used to model the data if the model depends linearly upon unknown parameters. \n",
        "\n",
        "The general equation for this is: ̂y = 𝛽₀ + 𝛽₁𝑥₁ + ⋯ + 𝛽ᵣ𝑥ᵣ + 𝜀"
      ],
      "metadata": {
        "id": "IKGq6AluCG5w"
      }
    }
  ],
  "metadata": {
    "colab": {
      "provenance": [],
      "include_colab_link": true
    },
    "kernelspec": {
      "display_name": "Python 3",
      "name": "python3"
    },
    "language_info": {
      "name": "python"
    }
  },
  "nbformat": 4,
  "nbformat_minor": 0
}