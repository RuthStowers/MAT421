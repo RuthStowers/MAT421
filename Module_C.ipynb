{
  "cells": [
    {
      "cell_type": "markdown",
      "metadata": {
        "id": "view-in-github",
        "colab_type": "text"
      },
      "source": [
        "<a href=\"https://colab.research.google.com/github/RuthStowers/MAT421/blob/main/Module_C.ipynb\" target=\"_parent\"><img src=\"https://colab.research.google.com/assets/colab-badge.svg\" alt=\"Open In Colab\"/></a>"
      ]
    },
    {
      "cell_type": "markdown",
      "metadata": {
        "id": "K1LgSsvg6TmU"
      },
      "source": [
        "**Chapter 19 Homework**\n",
        "\n",
        "*Sections: 19.1, 19.2, 19.3, 19.4, 19.5*\n",
        "\n",
        "**19.1- Root Finding Problem Statement**\n",
        "\n",
        "The **root** or **zero** of a funtion, f(x), is where f(x)= 0. Some functions have exact roots such as f(x)=x^2-4 where the roots are at x=2,-2. Other functions's roots can be difficult to find exact solutions for. In these cases, we approximate root values such as the fuction f(x)=cos(x)+x.\n",
        "\n",
        "*Example 1*. Using fsolve funtion from spicy, compute the root of f(x) = cos(x) + x near -1. Verify that the solution is a root."
      ]
    },
    {
      "cell_type": "code",
      "execution_count": 3,
      "metadata": {
        "colab": {
          "base_uri": "https://localhost:8080/"
        },
        "id": "hrEmGn7e8euf",
        "outputId": "f7d3e5e4-03bd-4b6e-f19a-80cea117b4bf"
      },
      "outputs": [
        {
          "output_type": "stream",
          "name": "stdout",
          "text": [
            "r = [-0.73908513]\n",
            "result = [0.]\n"
          ]
        }
      ],
      "source": [
        "import numpy as np\n",
        "from scipy import optimize \n",
        "\n",
        "f = lambda x: np.cos(x) + x\n",
        "r = optimize.fsolve(f, -1)\n",
        "print(\"r =\", r)\n",
        "\n",
        "result = f(r)\n",
        "print(\"result =\", result)"
      ]
    },
    {
      "cell_type": "markdown",
      "source": [
        "**Section 19.2 and 19.3- Tolerance and Bisection Method**\n",
        "\n",
        "When roots must be approximated, the term **tolerance** is used to specify the level of error that is acceptable for an engineering application. The **bisection method** uses the Intermediate Value Theorem iteratively to find roots.\n",
        "\n",
        "In the problem below, we will show the bisection method to approximate the tolerance.\n",
        "\n",
        "*Example 2*. Program a function that approximates a root r of f, bounded by a and b to within |f(a+b/2)| < tol. Then consider the root of x^2 - 3. Starting at a = 0 and b = 3, use the created function to approximate the sqrt(3) to a tolerance of |f(x)| < 0.1 and |f(x)| < 0.01. Verify the results are close to a root by plugging the root back into the equation."
      ],
      "metadata": {
        "id": "F8wnTTg-_gC3"
      }
    },
    {
      "cell_type": "code",
      "source": [
        "import numpy as np\n",
        "\n",
        "def my_bisection(f, a, b, tol):\n",
        "  if np.sign(f(a)) == np.sign(f(b)):\n",
        "    raise Exception(\n",
        "        \"The scalars a and b do not bound a root\")\n",
        "    \n",
        "  m = (a + b)/2\n",
        "\n",
        "  if np.abs(f(m)) < tol:\n",
        "    return m\n",
        "  elif np.sign(f(a)) == np.sign(f(m)):\n",
        "    return my_bisection(f, m, b, tol)\n",
        "  elif np.sign(f(b)) == np.sign(f(m)):\n",
        "    return my_bisection(f, a, m, tol)\n",
        "    \n",
        "    "
      ],
      "metadata": {
        "id": "irosWSmiBu2P"
      },
      "execution_count": 4,
      "outputs": []
    },
    {
      "cell_type": "code",
      "source": [
        "f = lambda x : x**2 - 3\n",
        "r1 = my_bisection(f, 0, 3, 0.1)\n",
        "print(\"r1 =\", r1)\n",
        "r01 = my_bisection(f, 0, 3, 0.01)\n",
        "print(\"r01 =\", r01)\n",
        "\n",
        "print(\"f(r1) =\", f(r1))\n",
        "print(\"f(r2) =\", f(r01))\n"
      ],
      "metadata": {
        "colab": {
          "base_uri": "https://localhost:8080/"
        },
        "id": "Or6ysSjeE5le",
        "outputId": "730004f8-8248-410a-a145-e9e5a1ed9763"
      },
      "execution_count": 14,
      "outputs": [
        {
          "output_type": "stream",
          "name": "stdout",
          "text": [
            "r1 = 1.734375\n",
            "r01 = 1.734375\n",
            "f(r1) = 0.008056640625\n",
            "f(r2) = 0.008056640625\n"
          ]
        }
      ]
    },
    {
      "cell_type": "markdown",
      "source": [
        "**19.4- Newton-Raphson Method**\n",
        "\n",
        "The **Newton-Raphson Method** of finding roots begins with a guess of where the root might be (x0). Then we find closer values by taking Newton steps until we find a value (xi) where the error is less than the tolerance. \n",
        "\n",
        "*Example 3*. Write a function where the output is the output is an estimation of the root f, f is a function object f(x), df is a function object to f'(x), x0 is an initial guess, and tol is the error tolerance. The error measurement should be |f(x)|. Then use it to compute sqrt(3) to within tolerance of 1e-6 at x0 = 1."
      ],
      "metadata": {
        "id": "YCrrVxXPKFuk"
      }
    },
    {
      "cell_type": "code",
      "source": [
        "f_prime = lambda x: 2*x\n",
        "def my_newton(f, df, x0, tol):\n",
        "  if abs(f(x0)) < tol:\n",
        "    return x0\n",
        "  else:\n",
        "    return my_newton(f, df, x0 - f(x0)/df(x0), tol)\n",
        "    "
      ],
      "metadata": {
        "id": "sSsoWcQ4UhvR"
      },
      "execution_count": 15,
      "outputs": []
    },
    {
      "cell_type": "code",
      "source": [
        "estimate = my_newton(f, f_prime, 1, 1e-6)\n",
        "print(\"estimate =\", estimate)\n",
        "print(\"sqrt(3)\", np.sqrt(3))"
      ],
      "metadata": {
        "colab": {
          "base_uri": "https://localhost:8080/"
        },
        "id": "lg4JaDYwWBOY",
        "outputId": "e1bd84f0-89ca-4113-8189-2decab92a188"
      },
      "execution_count": 16,
      "outputs": [
        {
          "output_type": "stream",
          "name": "stdout",
          "text": [
            "estimate = 1.7320508100147276\n",
            "sqrt(3) 1.7320508075688772\n"
          ]
        }
      ]
    },
    {
      "cell_type": "markdown",
      "source": [
        "**19.5- Root Finding in Python**\n",
        "\n",
        "*Example 4*. Compute the root of x^2 - 7x + 6 using fsolve."
      ],
      "metadata": {
        "id": "YbHfhwGBXJcI"
      }
    },
    {
      "cell_type": "code",
      "source": [
        "from scipy.optimize import fsolve\n",
        "f = lambda x : x**2-7*x+6\n",
        "fsolve(f, [0,7])"
      ],
      "metadata": {
        "colab": {
          "base_uri": "https://localhost:8080/"
        },
        "id": "c77y5VZbXjpy",
        "outputId": "7e774f3c-6147-44ae-84ca-dda3943b2dc8"
      },
      "execution_count": 18,
      "outputs": [
        {
          "output_type": "execute_result",
          "data": {
            "text/plain": [
              "array([1., 6.])"
            ]
          },
          "metadata": {},
          "execution_count": 18
        }
      ]
    }
  ],
  "metadata": {
    "colab": {
      "provenance": [],
      "include_colab_link": true
    },
    "kernelspec": {
      "display_name": "Python 3",
      "name": "python3"
    },
    "language_info": {
      "name": "python"
    }
  },
  "nbformat": 4,
  "nbformat_minor": 0
}