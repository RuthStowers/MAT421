{
  "nbformat": 4,
  "nbformat_minor": 0,
  "metadata": {
    "colab": {
      "provenance": [],
      "authorship_tag": "ABX9TyOjDdoaZI+JF79fgZm0nSWN",
      "include_colab_link": true
    },
    "kernelspec": {
      "name": "python3",
      "display_name": "Python 3"
    },
    "language_info": {
      "name": "python"
    }
  },
  "cells": [
    {
      "cell_type": "markdown",
      "metadata": {
        "id": "view-in-github",
        "colab_type": "text"
      },
      "source": [
        "<a href=\"https://colab.research.google.com/github/RuthStowers/MAT421/blob/main/Module_A.ipynb\" target=\"_parent\"><img src=\"https://colab.research.google.com/assets/colab-badge.svg\" alt=\"Open In Colab\"/></a>"
      ]
    },
    {
      "cell_type": "markdown",
      "source": [
        "MAT 421 -- Ruth Stowers\n",
        "Module A\n",
        "\n",
        "Chapter 9.1 Base-N and Binary\n",
        "\n",
        "In our society, we are most used to using a number system with a base of 10. Since computers can only work with the numbers 0 and 1, they work with a number system of base 2, commonly referred to as binary numbers.\n",
        "\n",
        "Here are two examples of numbers (base 10) converted to binary (base 2) using code.\n",
        "\n",
        "1. 20 (base 10)"
      ],
      "metadata": {
        "id": "Cw4iGHUA6xLR"
      }
    },
    {
      "cell_type": "code",
      "execution_count": 1,
      "metadata": {
        "colab": {
          "base_uri": "https://localhost:8080/",
          "height": 36
        },
        "id": "ER-MjD8j6tqe",
        "outputId": "c8c19784-3632-4c1a-d532-fb3482f6d52d"
      },
      "outputs": [
        {
          "output_type": "execute_result",
          "data": {
            "text/plain": [
              "'0b10100'"
            ],
            "application/vnd.google.colaboratory.intrinsic+json": {
              "type": "string"
            }
          },
          "metadata": {},
          "execution_count": 1
        }
      ],
      "source": [
        "bin(20) #converting 20 to binary"
      ]
    },
    {
      "cell_type": "markdown",
      "source": [
        "2. 123 (base 10)"
      ],
      "metadata": {
        "id": "eZIEmuyW6u3X"
      }
    },
    {
      "cell_type": "code",
      "source": [
        "bin(123) #converting 123 to binary"
      ],
      "metadata": {
        "colab": {
          "base_uri": "https://localhost:8080/",
          "height": 36
        },
        "id": "SQKsZ8dE8R8T",
        "outputId": "9b9da680-29da-4eb8-b23e-0b99e99a5a05"
      },
      "execution_count": 2,
      "outputs": [
        {
          "output_type": "execute_result",
          "data": {
            "text/plain": [
              "'0b1111011'"
            ],
            "application/vnd.google.colaboratory.intrinsic+json": {
              "type": "string"
            }
          },
          "metadata": {},
          "execution_count": 2
        }
      ]
    },
    {
      "cell_type": "markdown",
      "source": [
        "We can also add and multiply binary numbers using code."
      ],
      "metadata": {
        "id": "f5Xuaddd8YiT"
      }
    },
    {
      "cell_type": "markdown",
      "source": [
        "3. Convert 7 and 22 to binary and then add them."
      ],
      "metadata": {
        "id": "xnp0D7DT8hst"
      }
    },
    {
      "cell_type": "code",
      "source": [
        "bin(7) #converting 7 to binary\n",
        "bin(22) #converting 22 to binary\n",
        "x = 0b111 #initializing x as a binary of 7\n",
        "y = 0b10110 #initializing y as a binary of 22\n",
        "z = x + y #storing balue of \"x + y\" in z\n",
        "print(f\"{z:b}\") #printing result of z as binary"
      ],
      "metadata": {
        "colab": {
          "base_uri": "https://localhost:8080/"
        },
        "id": "GC2yfj_k8hBa",
        "outputId": "b09c0a36-2c35-4553-9360-230506c15082"
      },
      "execution_count": 7,
      "outputs": [
        {
          "output_type": "stream",
          "name": "stdout",
          "text": [
            "11101\n"
          ]
        }
      ]
    },
    {
      "cell_type": "markdown",
      "source": [
        "4. Multiply 7 and 22."
      ],
      "metadata": {
        "id": "4sUQ9rW599tU"
      }
    },
    {
      "cell_type": "code",
      "source": [
        "x = 0b111 #initializing x as a binary of 7\n",
        "y = 0b10110 #initializing y as a binary of 22\n",
        "z = x * y #storing value of \"x * y\" in z\n",
        "print(f\"{z:b}\") #printing result of z as binary\n",
        "     "
      ],
      "metadata": {
        "colab": {
          "base_uri": "https://localhost:8080/"
        },
        "id": "wthTUqlo-CAo",
        "outputId": "806f7ab5-0653-4fc9-ac55-1f6ed8fe473b"
      },
      "execution_count": 8,
      "outputs": [
        {
          "output_type": "stream",
          "name": "stdout",
          "text": [
            "10011010\n"
          ]
        }
      ]
    },
    {
      "cell_type": "markdown",
      "source": [
        "Chapter 9.1 Floating Point Numbers\n",
        "\n",
        "In order to increase the range and precision of digital number representation, we use floating point numbers. Almost all platforms map Python floats to the IEEE754 double precision - 64 total bits. They consist of three parts: the sign indicator (1 bit), the exponent (11 bits), and the fraction (52 bits).\n",
        "\n",
        "The code information for float is as follows.\n"
      ],
      "metadata": {
        "id": "nlTIlq-YZOK4"
      }
    },
    {
      "cell_type": "code",
      "source": [
        "import sys\n",
        "sys.float_info"
      ],
      "metadata": {
        "colab": {
          "base_uri": "https://localhost:8080/"
        },
        "id": "ImWXSrafoeSQ",
        "outputId": "2c020b8b-a9d7-4f6c-b3b5-80f0bc754d2d"
      },
      "execution_count": 1,
      "outputs": [
        {
          "output_type": "execute_result",
          "data": {
            "text/plain": [
              "sys.float_info(max=1.7976931348623157e+308, max_exp=1024, max_10_exp=308, min=2.2250738585072014e-308, min_exp=-1021, min_10_exp=-307, dig=15, mant_dig=53, epsilon=2.220446049250313e-16, radix=2, rounds=1)"
            ]
          },
          "metadata": {},
          "execution_count": 1
        }
      ]
    },
    {
      "cell_type": "markdown",
      "source": [
        "There are limits to the range and precision of numbers that can be represented by a float. Here are two examples of numbers outside of the float range of capabilities."
      ],
      "metadata": {
        "id": "tj6zdvpc1C-Z"
      }
    },
    {
      "cell_type": "markdown",
      "source": [
        "Overflow: Numbers that are larger than the largest representable floating point number."
      ],
      "metadata": {
        "id": "7vMqdXnBokYi"
      }
    },
    {
      "cell_type": "code",
      "source": [
        "1.99e312 #print number"
      ],
      "metadata": {
        "colab": {
          "base_uri": "https://localhost:8080/"
        },
        "id": "oj-JgysGomlV",
        "outputId": "d4810b44-e87b-4c2e-8b55-ae9806b12984"
      },
      "execution_count": 4,
      "outputs": [
        {
          "output_type": "execute_result",
          "data": {
            "text/plain": [
              "inf"
            ]
          },
          "metadata": {},
          "execution_count": 4
        }
      ]
    },
    {
      "cell_type": "markdown",
      "source": [
        "Underflow: Numbers that are smaller than the smallest subnormal number."
      ],
      "metadata": {
        "id": "1setE1F2ooSi"
      }
    },
    {
      "cell_type": "code",
      "source": [
        "2 ** (-1080) #print number"
      ],
      "metadata": {
        "colab": {
          "base_uri": "https://localhost:8080/"
        },
        "id": "PLrQvzN7oqs9",
        "outputId": "e5e7d578-0a24-4ed1-c5ab-dd21be5891b6"
      },
      "execution_count": 5,
      "outputs": [
        {
          "output_type": "execute_result",
          "data": {
            "text/plain": [
              "0.0"
            ]
          },
          "metadata": {},
          "execution_count": 5
        }
      ]
    },
    {
      "cell_type": "markdown",
      "source": [
        "Since computations are limited to binary code, there are 'gaps' between float numbers of base 10. \n",
        "\n",
        "These gaps can be computed using the function spacing in numpy."
      ],
      "metadata": {
        "id": "sLXGFT0Y2471"
      }
    },
    {
      "cell_type": "code",
      "source": [
        "import numpy as np #calling space function in numpy\n",
        "np.spacing(1e2) #gap at 1e2"
      ],
      "metadata": {
        "colab": {
          "base_uri": "https://localhost:8080/"
        },
        "id": "P_3lgwcN4PWZ",
        "outputId": "5fecfe44-701f-410b-8382-9f19328d3c8c"
      },
      "execution_count": 8,
      "outputs": [
        {
          "output_type": "execute_result",
          "data": {
            "text/plain": [
              "1.4210854715202004e-14"
            ]
          },
          "metadata": {},
          "execution_count": 8
        }
      ]
    },
    {
      "cell_type": "code",
      "source": [
        "1e2 == (1e2 + np.spacing(1e2)/3) #verifying that adding to 1e2 and less than half the gap at 1e2 is the same number"
      ],
      "metadata": {
        "colab": {
          "base_uri": "https://localhost:8080/"
        },
        "id": "8vdLiMBN4euF",
        "outputId": "b36ab1f2-e73c-4baa-937f-a8cb953c7347"
      },
      "execution_count": 9,
      "outputs": [
        {
          "output_type": "execute_result",
          "data": {
            "text/plain": [
              "True"
            ]
          },
          "metadata": {},
          "execution_count": 9
        }
      ]
    },
    {
      "cell_type": "markdown",
      "source": [
        "9.3 Round-off Errors\n",
        "\n",
        "Because a floating number cannot be stored with perfect precision, there is an error between the appoximated number used in computations and the true value. This error is called a round-off error.\n",
        "\n",
        "An example of a round-off error is as follows."
      ],
      "metadata": {
        "id": "6YRGr9c-49YK"
      }
    },
    {
      "cell_type": "code",
      "source": [
        "3.0-2.957 == 0.043 #round-off"
      ],
      "metadata": {
        "colab": {
          "base_uri": "https://localhost:8080/"
        },
        "id": "tSWOu66Qvp-k",
        "outputId": "3946ba15-6dd1-4788-ca9f-dd5c8702b365"
      },
      "execution_count": 1,
      "outputs": [
        {
          "output_type": "execute_result",
          "data": {
            "text/plain": [
              "False"
            ]
          },
          "metadata": {},
          "execution_count": 1
        }
      ]
    },
    {
      "cell_type": "code",
      "source": [
        "3.0 - 2.957 #python calculation"
      ],
      "metadata": {
        "colab": {
          "base_uri": "https://localhost:8080/"
        },
        "id": "Nym_lWiBv6Ep",
        "outputId": "75e21841-7452-4a82-b49d-916036a65e72"
      },
      "execution_count": 2,
      "outputs": [
        {
          "output_type": "execute_result",
          "data": {
            "text/plain": [
              "0.04300000000000015"
            ]
          },
          "metadata": {},
          "execution_count": 2
        }
      ]
    },
    {
      "cell_type": "markdown",
      "source": [
        "To verify that this is a true statement:"
      ],
      "metadata": {
        "id": "vxHI7KtpwF6p"
      }
    },
    {
      "cell_type": "code",
      "source": [
        "round(3.0-2.957, 7) == round(0.043,7) #round function to make a previous equation true"
      ],
      "metadata": {
        "colab": {
          "base_uri": "https://localhost:8080/"
        },
        "id": "KdjJXeuIwNHo",
        "outputId": "9561f866-b5d0-4e46-fd42-1dd99623037f"
      },
      "execution_count": 3,
      "outputs": [
        {
          "output_type": "execute_result",
          "data": {
            "text/plain": [
              "True"
            ]
          },
          "metadata": {},
          "execution_count": 3
        }
      ]
    },
    {
      "cell_type": "markdown",
      "source": [
        "These small errors can accumulate as computations occur multiple times, increasing the value of the error.\n",
        "\n",
        "For example, adding a fraction and subtracting the same fraction a large number of times will eventually lead to a very large error as seen below. "
      ],
      "metadata": {
        "id": "PirjY7i7wboE"
      }
    },
    {
      "cell_type": "code",
      "source": [
        "10 + 1/7 - 1/7"
      ],
      "metadata": {
        "colab": {
          "base_uri": "https://localhost:8080/"
        },
        "id": "qoR4DCrOwx1t",
        "outputId": "b32bef0f-0239-4966-ca32-752fc08feae1"
      },
      "execution_count": 4,
      "outputs": [
        {
          "output_type": "execute_result",
          "data": {
            "text/plain": [
              "10.0"
            ]
          },
          "metadata": {},
          "execution_count": 4
        }
      ]
    },
    {
      "cell_type": "code",
      "source": [
        "def add_and_subract(iterations): #defining function\n",
        "  result = 10\n",
        "\n",
        "  for i in range(iterations): #loop for adding 1/7 the number of iterations\n",
        "    result += (1/7)\n",
        "\n",
        "  for i in range(iterations): #loop for subtracting 1/7 the number of iterations\n",
        "    result -= (1/7)\n",
        "  return result"
      ],
      "metadata": {
        "id": "tIbnnMLzxKGf"
      },
      "execution_count": 6,
      "outputs": []
    },
    {
      "cell_type": "code",
      "source": [
        "add_and_subract(1000) #run function 1000 times"
      ],
      "metadata": {
        "colab": {
          "base_uri": "https://localhost:8080/"
        },
        "id": "7cC30pVlxYRs",
        "outputId": "3383188c-d632-47a7-bbbd-383aaaf2ce04"
      },
      "execution_count": 7,
      "outputs": [
        {
          "output_type": "execute_result",
          "data": {
            "text/plain": [
              "9.999999999999996"
            ]
          },
          "metadata": {},
          "execution_count": 7
        }
      ]
    },
    {
      "cell_type": "code",
      "source": [
        "add_and_subract(10000) #run function 10000 times"
      ],
      "metadata": {
        "colab": {
          "base_uri": "https://localhost:8080/"
        },
        "id": "1dZ1780_xhow",
        "outputId": "0f9c4dfd-2218-4a02-b5db-7719f8455cf4"
      },
      "execution_count": 8,
      "outputs": [
        {
          "output_type": "execute_result",
          "data": {
            "text/plain": [
              "10.000000000000107"
            ]
          },
          "metadata": {},
          "execution_count": 8
        }
      ]
    }
  ]
}