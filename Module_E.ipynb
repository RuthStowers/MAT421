{
  "cells": [
    {
      "cell_type": "markdown",
      "metadata": {
        "id": "view-in-github",
        "colab_type": "text"
      },
      "source": [
        "<a href=\"https://colab.research.google.com/github/RuthStowers/MAT421/blob/main/Module_E.ipynb\" target=\"_parent\"><img src=\"https://colab.research.google.com/assets/colab-badge.svg\" alt=\"Open In Colab\"/></a>"
      ]
    },
    {
      "cell_type": "markdown",
      "source": [
        "**Module D: 3.2 and 3.3**\n",
        "\n",
        "*3.2 Continunity and Differentiation*\n",
        "\n",
        "Limits are an essential part of calculus and mathematical analysis.\n",
        "\n",
        "Here is an example of the limit of y=1/x as x goes to infinity.\n"
      ],
      "metadata": {
        "id": "8jahzAiGnqo3"
      }
    },
    {
      "cell_type": "code",
      "source": [
        "from sympy import limit, oo, Symbol\n",
        "x = Symbol('x')\n",
        "y = 1/x\n",
        "limit(y, x, oo)"
      ],
      "metadata": {
        "colab": {
          "base_uri": "https://localhost:8080/",
          "height": 37
        },
        "id": "OOMgnY4ZoayJ",
        "outputId": "dad0cba5-f7f4-4b9a-c639-8ab8e093ec62"
      },
      "execution_count": 1,
      "outputs": [
        {
          "output_type": "execute_result",
          "data": {
            "text/plain": [
              "0"
            ],
            "text/latex": "$\\displaystyle 0$"
          },
          "metadata": {},
          "execution_count": 1
        }
      ]
    },
    {
      "cell_type": "markdown",
      "source": [
        "The derivative of a fuction of a veal variable meansures the sensitivity to the change of the function value with respect to another variable.\n",
        "\n",
        "The derivative of f(x) at x is calculated in the following way:\n",
        "\n",
        "f'(x) = limit (as h goes to 0) [(f(x+h)-f(x))/h]\n",
        "\n",
        "For example, the derivative of the function y=x^2+2 is:"
      ],
      "metadata": {
        "id": "0-O0sGt3yHPd"
      }
    },
    {
      "cell_type": "code",
      "source": [
        "from sympy import *\n",
        "import numpy as np\n",
        "x = Symbol('x')\n",
        "y = x**2 + 2\n",
        "yprime = y.diff(x)\n",
        "yprime"
      ],
      "metadata": {
        "colab": {
          "base_uri": "https://localhost:8080/",
          "height": 39
        },
        "id": "MZCRqdx5pWSD",
        "outputId": "8ecc0f63-08a3-4307-ee1f-7d5ce7292184"
      },
      "execution_count": 2,
      "outputs": [
        {
          "output_type": "execute_result",
          "data": {
            "text/plain": [
              "2*x"
            ],
            "text/latex": "$\\displaystyle 2 x$"
          },
          "metadata": {},
          "execution_count": 2
        }
      ]
    },
    {
      "cell_type": "markdown",
      "source": [
        "Another example is the following: f(a)= 6ab - asin(c) + a^2 + c^b\n",
        "\n",
        "f'(a)="
      ],
      "metadata": {
        "id": "5v74hkLozqSs"
      }
    },
    {
      "cell_type": "code",
      "source": [
        "from sympy import symbols, sin, diff\n",
        "a, b, c = symbols('a b c', real=True)\n",
        "f = 6*a*b - a*sin(c) + a**2 + c **b\n",
        "print(diff(f, a))"
      ],
      "metadata": {
        "colab": {
          "base_uri": "https://localhost:8080/"
        },
        "id": "Q8bBXcHZp-w3",
        "outputId": "5db29af3-9cb7-465a-a536-63f8cb359e57"
      },
      "execution_count": 5,
      "outputs": [
        {
          "output_type": "stream",
          "name": "stdout",
          "text": [
            "2*a + 6*b - sin(c)\n"
          ]
        }
      ]
    },
    {
      "cell_type": "markdown",
      "source": [
        "We can also compute partial derivatives with respect to multiple variables. To do this we can use a Jacobian matrix as follows:"
      ],
      "metadata": {
        "id": "d7nwUoRQ1mjJ"
      }
    },
    {
      "cell_type": "code",
      "source": [
        "from pprint import pprint\n",
        "from numpy import array, zeros, diag, diagflat, dot\n",
        "\n",
        "def jacobi(A, b, N=36, x=None):\n",
        "\n",
        "  if x is None:\n",
        "    x=zeros(len(A[0]))\n",
        "  D = diag(A)\n",
        "  R = A-diagflat(D)\n",
        "\n",
        "  for i in range(N):\n",
        "    x = (b-dot(R,x))/ D\n",
        "  return x\n",
        "\n",
        "A = array([[2.0, 1.0], [6.0, 4.0]])\n",
        "b = array([9.0, 12.0])\n",
        "guess = array([1.0, 1.0])\n",
        "\n",
        "sol = jacobi(A, b, N=36, x= guess)\n",
        "  \n",
        "print (\"A:\")\n",
        "pprint(A)\n",
        "print(\"b:\")\n",
        "pprint(b)\n",
        "print(\"x:\")\n",
        "pprint(sol)\n",
        "\n"
      ],
      "metadata": {
        "colab": {
          "base_uri": "https://localhost:8080/"
        },
        "id": "J0Qkwz8Mq6wM",
        "outputId": "40335ed6-dbda-44d1-a129-26c13a6d0b79"
      },
      "execution_count": 6,
      "outputs": [
        {
          "output_type": "stream",
          "name": "stdout",
          "text": [
            "A:\n",
            "array([[2., 1.],\n",
            "       [6., 4.]])\n",
            "b:\n",
            "array([ 9., 12.])\n",
            "x:\n",
            "array([ 11.93798519, -14.90979664])\n"
          ]
        }
      ]
    },
    {
      "cell_type": "markdown",
      "source": [
        "We can also calculate the gradient of a fuction."
      ],
      "metadata": {
        "id": "W0fnj26t2Ewz"
      }
    },
    {
      "cell_type": "code",
      "source": [
        "!pip install numdifftools\n",
        "import numdifftools as nd\n",
        "\n",
        "def f1(x):\n",
        "  return x**3-6\n",
        "grad = nd.Gradient(f1)([1])\n",
        "print(grad)"
      ],
      "metadata": {
        "colab": {
          "base_uri": "https://localhost:8080/"
        },
        "id": "5JtuhLEExIzJ",
        "outputId": "ec96cf3c-4283-4967-ff78-9450c675b96a"
      },
      "execution_count": 8,
      "outputs": [
        {
          "output_type": "stream",
          "name": "stdout",
          "text": [
            "Looking in indexes: https://pypi.org/simple, https://us-python.pkg.dev/colab-wheels/public/simple/\n",
            "Requirement already satisfied: numdifftools in /usr/local/lib/python3.8/dist-packages (0.9.41)\n",
            "Requirement already satisfied: scipy>=0.8 in /usr/local/lib/python3.8/dist-packages (from numdifftools) (1.7.3)\n",
            "Requirement already satisfied: numpy>=1.9 in /usr/local/lib/python3.8/dist-packages (from numdifftools) (1.21.6)\n",
            "2.999999999999999\n"
          ]
        }
      ]
    },
    {
      "cell_type": "markdown",
      "source": [
        "\n",
        "\n",
        "*3.3 Unconstrained Optimization*\n",
        "\n",
        "Unconstrained optimization is the process of optimizing an objective function with respect to some variables without the presence of constraints on those variables. It involves finding the maximum or minimum of a differential function of several variables over a nice set."
      ],
      "metadata": {
        "id": "e0MArKmByjO1"
      }
    },
    {
      "cell_type": "code",
      "source": [
        "import numpy as np\n",
        "import matplotlib.pyplot as plt\n",
        "\n",
        "x=np.linspace(1,12,50)\n",
        "f=np.log(x)\n",
        "plt.plot(x,f,color=(1,0,1))\n",
        "plt.grid()\n",
        "plt.xlabel('x')\n",
        "plt.ylabel('ln(x)')\n",
        "a=2\n",
        "b=10\n",
        "lam = .2\n",
        "c = lam * a + (1-lam)*b\n",
        "fa = np.log(a)\n",
        "fb = np.log(b)\n",
        "fc = np.log(c)\n",
        "fcc = lam *fa+(1-lam)*fb\n",
        "\n",
        "plt.plot([a,a], [0,fa])\n",
        "plt.plot([b,b], [0,fb])\n",
        "plt.plot([c,c], [0,fc])\n",
        "plt.plot([c,c], [0, fcc])\n",
        "plt.plot([a,b], [fa,fb])"
      ],
      "metadata": {
        "colab": {
          "base_uri": "https://localhost:8080/",
          "height": 296
        },
        "id": "IzApqtVvxN0v",
        "outputId": "29545595-36fb-45cd-a29a-1e1484c6496c"
      },
      "execution_count": 14,
      "outputs": [
        {
          "output_type": "execute_result",
          "data": {
            "text/plain": [
              "[<matplotlib.lines.Line2D at 0x7fac957ee5b0>]"
            ]
          },
          "metadata": {},
          "execution_count": 14
        },
        {
          "output_type": "display_data",
          "data": {
            "text/plain": [
              "<Figure size 432x288 with 1 Axes>"
            ],
            "image/png": "[encoded data removed]"
          },
          "metadata": {
            "needs_background": "light"
          }
        }
      ]
    }
  ],
  "metadata": {
    "colab": {
      "provenance": [],
      "include_colab_link": true
    },
    "kernelspec": {
      "display_name": "Python 3",
      "name": "python3"
    },
    "language_info": {
      "name": "python"
    }
  },
  "nbformat": 4,
  "nbformat_minor": 0
}